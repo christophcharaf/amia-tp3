{
 "cells": [
  {
   "cell_type": "code",
   "execution_count": 34,
   "id": "f6972f05",
   "metadata": {},
   "outputs": [],
   "source": [
    "from sklearn.datasets import load_iris\n",
    "from sklearn.model_selection import train_test_split\n",
    "import numpy as np\n",
    "from sklearn.discriminant_analysis import QuadraticDiscriminantAnalysis\n",
    "from sklearn.datasets import fetch_openml\n",
    "import pandas as pd"
   ]
  },
  {
   "cell_type": "markdown",
   "id": "ac7033c8",
   "metadata": {},
   "source": [
    "# 1. Entrenar un modelo QDA sobre el dataset iris utilizando las distribuciones a priori a continuación ¿Se observan diferencias?¿Por qué cree? Pista: comparar con las distribuciones del dataset completo, sin splitear."
   ]
  },
  {
   "cell_type": "code",
   "execution_count": 28,
   "id": "98c2533b",
   "metadata": {},
   "outputs": [],
   "source": [
    "def get_iris_dataset():\n",
    "    data = load_iris()\n",
    "    X_full = data.data\n",
    "    y_full = np.array(data.target)\n",
    "    return X_full, y_full\n",
    "\n",
    "X_full, y_full = get_iris_dataset()\n",
    "X_train, X_test, y_train, y_test = train_test_split(X_full, y_full, test_size=0.3, random_state=42)\n"
   ]
  },
  {
   "cell_type": "markdown",
   "id": "969de260",
   "metadata": {},
   "source": [
    "##### 1.1.  Uniforme (cada clase tiene probabilidad 1/3)"
   ]
  },
  {
   "cell_type": "code",
   "execution_count": 29,
   "id": "a2b275e3",
   "metadata": {},
   "outputs": [
    {
     "name": "stdout",
     "output_type": "stream",
     "text": [
      "QDA con distribución uniforme - Accuracy: 0.9833333333333333\n"
     ]
    }
   ],
   "source": [
    "# Distribución uniforme\n",
    "priors_uniform = [1/3, 1/3, 1/3]\n",
    "\n",
    "# Inicializar y entrenar el modelo QDA\n",
    "qda_uniform = QuadraticDiscriminantAnalysis(priors=priors_uniform)\n",
    "qda_uniform.fit(X_train, y_train)\n",
    "\n",
    "# Hacer predicciones\n",
    "y_pred_qda_uniform = qda_uniform.predict(X_test)\n",
    "\n",
    "# Calcular métricas\n",
    "accuracy_uniform = accuracy_score(y_test, y_pred_qda_uniform)\n",
    "precision_uniform = precision_score(y_test, y_pred_qda_uniform, average='weighted')\n",
    "recall_uniform = recall_score(y_test, y_pred_qda_uniform, average='weighted')\n",
    "f1_uniform = f1_score(y_test, y_pred_qda_uniform, average='weighted')\n",
    "\n",
    "print(f\"QDA con distribución uniforme - Accuracy: {accuracy_uniform}\")"
   ]
  },
  {
   "cell_type": "markdown",
   "id": "ce36e852",
   "metadata": {},
   "source": [
    "##### 1.2.  Una clase con probabilidad 0.9, las demás 0.05 (probar las 3 combinaciones)"
   ]
  },
  {
   "cell_type": "code",
   "execution_count": 30,
   "id": "a5e584d7",
   "metadata": {},
   "outputs": [
    {
     "name": "stdout",
     "output_type": "stream",
     "text": [
      "QDA con distribución [0.9, 0.05, 0.05] - Accuracy: 0.9833333333333333\n",
      "QDA con distribución [0.05, 0.9, 0.05] - Accuracy: 0.95\n",
      "QDA con distribución [0.05, 0.05, 0.9] - Accuracy: 0.9833333333333333\n"
     ]
    }
   ],
   "source": [
    "# Definir las distribuciones a priori\n",
    "priors_0 = [0.9, 0.05, 0.05]\n",
    "priors_1 = [0.05, 0.9, 0.05]\n",
    "priors_2 = [0.05, 0.05, 0.9]\n",
    "\n",
    "# Inicializar y entrenar los modelos QDA\n",
    "qda_0 = QuadraticDiscriminantAnalysis(priors=priors_0)\n",
    "qda_1 = QuadraticDiscriminantAnalysis(priors=priors_1)\n",
    "qda_2 = QuadraticDiscriminantAnalysis(priors=priors_2)\n",
    "\n",
    "qda_0.fit(X_train, y_train)\n",
    "qda_1.fit(X_train, y_train)\n",
    "qda_2.fit(X_train, y_train)\n",
    "\n",
    "# Hacer predicciones\n",
    "y_pred_qda_0 = qda_0.predict(X_test)\n",
    "y_pred_qda_1 = qda_1.predict(X_test)\n",
    "y_pred_qda_2 = qda_2.predict(X_test)\n",
    "\n",
    "# Calcular métricas\n",
    "accuracy_0 = accuracy_score(y_test, y_pred_qda_0)\n",
    "\n",
    "\n",
    "accuracy_1 = accuracy_score(y_test, y_pred_qda_1)\n",
    "\n",
    "\n",
    "accuracy_2 = accuracy_score(y_test, y_pred_qda_2)\n",
    "\n",
    "\n",
    "print(f\"QDA con distribución [0.9, 0.05, 0.05] - Accuracy: {accuracy_0}\")\n",
    "print(f\"QDA con distribución [0.05, 0.9, 0.05] - Accuracy: {accuracy_1}\")\n",
    "print(f\"QDA con distribución [0.05, 0.05, 0.9] - Accuracy: {accuracy_2}\")\n"
   ]
  },
  {
   "cell_type": "markdown",
   "id": "80eae348",
   "metadata": {},
   "source": [
    "# 2. Implementar y evaluar QDA con diferentes distribuciones a priori en el dataset Penguins"
   ]
  },
  {
   "cell_type": "code",
   "execution_count": 47,
   "id": "5ca6f727",
   "metadata": {},
   "outputs": [
    {
     "name": "stdout",
     "output_type": "stream",
     "text": [
      "X:(342, 4), Y:(342,)\n"
     ]
    },
    {
     "name": "stderr",
     "output_type": "stream",
     "text": [
      "C:\\Users\\chris\\anaconda3\\Lib\\site-packages\\sklearn\\datasets\\_openml.py:968: FutureWarning: The default value of `parser` will change from `'liac-arff'` to `'auto'` in 1.4. You can set `parser='auto'` to silence this warning. Therefore, an `ImportError` will be raised from 1.4 if the dataset is dense and pandas is not installed. Note that the pandas parser may return different data types. See the Notes Section in fetch_openml's API doc for details.\n",
      "  warn(\n"
     ]
    }
   ],
   "source": [
    "def get_penguins():\n",
    "    # Obtener los datos\n",
    "    df, tgt = fetch_openml(name=\"penguins\", return_X_y=True, as_frame=True)\n",
    "\n",
    "    # Eliminar columnas no numéricas\n",
    "    df.drop(columns=[\"island\", \"sex\"], inplace=True)\n",
    "\n",
    "    # Eliminar filas con valores faltantes\n",
    "    mask = df.isna().sum(axis=1) == 0\n",
    "    df = df[mask]\n",
    "    tgt = tgt[mask]\n",
    "\n",
    "    return df.values, tgt.to_numpy().reshape(-1,)\n",
    "\n",
    "X_penguins, y_penguins = get_penguins()\n",
    "\n",
    "print (f\"X:{X_penguins.shape}, Y:{y_penguins.shape}\")\n",
    "\n",
    "X_train_p, X_test_p, y_train_p, y_test_p = train_test_split(X_penguins, y_penguins, test_size=0.3, random_state=42)"
   ]
  },
  {
   "cell_type": "markdown",
   "id": "5f5d5f81",
   "metadata": {},
   "source": [
    "##### 1.1. Uniforme (cada clase tiene probabilidad 1/3)"
   ]
  },
  {
   "cell_type": "code",
   "execution_count": 43,
   "id": "eed36c93",
   "metadata": {},
   "outputs": [
    {
     "name": "stdout",
     "output_type": "stream",
     "text": [
      "QDA con distribución uniforme en Penguins - Accuracy: 0.9902912621359223\n"
     ]
    }
   ],
   "source": [
    "# Distribución uniforme\n",
    "priors_uniform = [1/3, 1/3, 1/3]\n",
    "qda_uniform_p = QuadraticDiscriminantAnalysis(priors=priors_uniform)\n",
    "qda_uniform_p.fit(X_train_p, y_train_p)\n",
    "y_pred_qda_uniform_p = qda_uniform_p.predict(X_test_p)\n",
    "accuracy_uniform_p = accuracy_score(y_test_p, y_pred_qda_uniform_p)\n",
    "precision_uniform_p = precision_score(y_test_p, y_pred_qda_uniform_p, average='weighted')\n",
    "recall_uniform_p = recall_score(y_test_p, y_pred_qda_uniform_p, average='weighted')\n",
    "f1_uniform_p = f1_score(y_test_p, y_pred_qda_uniform_p, average='weighted')\n",
    "\n",
    "print(f\"QDA con distribución uniforme en Penguins - Accuracy: {accuracy_uniform_p}\")"
   ]
  },
  {
   "cell_type": "markdown",
   "id": "88a287f8",
   "metadata": {},
   "source": [
    "##### 1.2. QDA con distribución 0.9, 0.05, 0.05 (3 combinaciones)"
   ]
  },
  {
   "cell_type": "code",
   "execution_count": 42,
   "id": "20f5202a",
   "metadata": {},
   "outputs": [
    {
     "name": "stdout",
     "output_type": "stream",
     "text": [
      "QDA con distribución [0.9, 0.05, 0.05] en Penguins - Accuracy: 0.9902912621359223\n",
      "QDA con distribución [0.05, 0.9, 0.05] en Penguins - Accuracy: 0.9514563106796117\n",
      "QDA con distribución [0.05, 0.05, 0.9] en Penguins - Accuracy: 0.9902912621359223\n"
     ]
    }
   ],
   "source": [
    "# Definir las diferentes distribuciones a priori\n",
    "priors_0 = [0.9, 0.05, 0.05]\n",
    "priors_1 = [0.05, 0.9, 0.05]\n",
    "priors_2 = [0.05, 0.05, 0.9]\n",
    "\n",
    "# Inicializar y entrenar los modelos QDA\n",
    "qda_0_p = QuadraticDiscriminantAnalysis(priors=priors_0)\n",
    "qda_1_p = QuadraticDiscriminantAnalysis(priors=priors_1)\n",
    "qda_2_p = QuadraticDiscriminantAnalysis(priors=priors_2)\n",
    "\n",
    "qda_0_p.fit(X_train_p, y_train_p)\n",
    "qda_1_p.fit(X_train_p, y_train_p)\n",
    "qda_2_p.fit(X_train_p, y_train_p)\n",
    "\n",
    "# Hacer predicciones\n",
    "y_pred_qda_0_p = qda_0_p.predict(X_test_p)\n",
    "y_pred_qda_1_p = qda_1_p.predict(X_test_p)\n",
    "y_pred_qda_2_p = qda_2_p.predict(X_test_p)\n",
    "\n",
    "# Calcular métricas\n",
    "accuracy_0_p = accuracy_score(y_test_p, y_pred_qda_0_p)\n",
    "precision_0_p = precision_score(y_test_p, y_pred_qda_0_p, average='weighted')\n",
    "recall_0_p = recall_score(y_test_p, y_pred_qda_0_p, average='weighted')\n",
    "f1_0_p = f1_score(y_test_p, y_pred_qda_0_p, average='weighted')\n",
    "\n",
    "accuracy_1_p = accuracy_score(y_test_p, y_pred_qda_1_p)\n",
    "precision_1_p = precision_score(y_test_p, y_pred_qda_1_p, average='weighted')\n",
    "recall_1_p = recall_score(y_test_p, y_pred_qda_1_p, average='weighted')\n",
    "f1_1_p = f1_score(y_test_p, y_pred_qda_1_p, average='weighted')\n",
    "\n",
    "accuracy_2_p = accuracy_score(y_test_p, y_pred_qda_2_p)\n",
    "precision_2_p = precision_score(y_test_p, y_pred_qda_2_p, average='weighted')\n",
    "recall_2_p = recall_score(y_test_p, y_pred_qda_2_p, average='weighted')\n",
    "f1_2_p = f1_score(y_test_p, y_pred_qda_2_p, average='weighted')\n",
    "\n",
    "print(f\"QDA con distribución [0.9, 0.05, 0.05] en Penguins - Accuracy: {accuracy_0_p}\")\n",
    "print(f\"QDA con distribución [0.05, 0.9, 0.05] en Penguins - Accuracy: {accuracy_1_p}\")\n",
    "print(f\"QDA con distribución [0.05, 0.05, 0.9] en Penguins - Accuracy: {accuracy_2_p}\")\n"
   ]
  },
  {
   "cell_type": "code",
   "execution_count": null,
   "id": "421b6050",
   "metadata": {},
   "outputs": [],
   "source": []
  }
 ],
 "metadata": {
  "celltoolbar": "Raw Cell Format",
  "kernelspec": {
   "display_name": "Python 3 (ipykernel)",
   "language": "python",
   "name": "python3"
  },
  "language_info": {
   "codemirror_mode": {
    "name": "ipython",
    "version": 3
   },
   "file_extension": ".py",
   "mimetype": "text/x-python",
   "name": "python",
   "nbconvert_exporter": "python",
   "pygments_lexer": "ipython3",
   "version": "3.11.7"
  }
 },
 "nbformat": 4,
 "nbformat_minor": 5
}
